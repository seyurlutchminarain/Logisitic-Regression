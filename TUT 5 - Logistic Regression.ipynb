{
 "cells": [
  {
   "cell_type": "code",
   "execution_count": 1,
   "metadata": {},
   "outputs": [],
   "source": [
    "import math\n",
    "import numpy as np\n",
    "from numpy import *\n",
    "import random\n",
    "from random import sample\n",
    "import matplotlib.pyplot as plt\n",
    "import scipy as sp\n",
    "from scipy import stats"
   ]
  },
  {
   "cell_type": "code",
   "execution_count": 2,
   "metadata": {
    "scrolled": false
   },
   "outputs": [],
   "source": [
    "#Q1: Generating the Gaussians to sample data\n",
    "#############################################\n",
    "def generateClasses(mean1, mean2, var,init_theta):\n",
    "    data_set1 = np.random.normal(mean1,var,(20,2)) #let this belong to class 0\n",
    "    plt.scatter(data_set1[:,0],data_set1[:,1],color = \"magenta\")\n",
    "\n",
    "\n",
    "    data_set2 = np.random.normal(mean2,var,(20,2)) #let this belong to class 1\n",
    "    plt.scatter(data_set2[:,0],data_set2[:,1], color = \"lime\")\n",
    "\n",
    "    x2 = []#this is used to calculate the decision boundary line\n",
    "    full_data  = np.concatenate((data_set1,data_set2),axis=0)\n",
    "    \n",
    "    for i in range(len(full_data)):\n",
    "        x2 += [(-1*init_theta[1])/(init_theta[2])*full_data[i] + (-1*init_theta[0]/init_theta[2])]\n",
    "\n",
    "    plt.plot(full_data,x2,color = \"blue\")\n",
    "    plt.show()\n",
    "  \n",
    "    \n",
    "    return data_set1,data_set2,full_data\n",
    "\n"
   ]
  },
  {
   "cell_type": "code",
   "execution_count": 3,
   "metadata": {
    "scrolled": true
   },
   "outputs": [
    {
     "name": "stdout",
     "output_type": "stream",
     "text": [
      "[-0.29056173  0.47842861 -0.35723151]\n"
     ]
    },
    {
     "data": {
      "image/png": "[encoded data removed]",
      "text/plain": [
       "<Figure size 432x288 with 1 Axes>"
      ]
     },
     "metadata": {
      "needs_background": "light"
     },
     "output_type": "display_data"
    },
    {
     "name": "stdout",
     "output_type": "stream",
     "text": [
      "class 1:\n",
      "[[ 1.68648771 -0.9246615 ]\n",
      " [ 1.89790856 -1.64108115]\n",
      " [-0.5521598  -1.9107503 ]\n",
      " [ 1.41260623 -0.31526554]\n",
      " [ 1.2970522   0.78406166]\n",
      " [ 0.89498191 -0.69388234]\n",
      " [ 1.98220314 -2.14027091]\n",
      " [ 1.26177246 -0.84872208]\n",
      " [ 1.21593827 -0.71413333]\n",
      " [ 0.83490969 -1.07402694]\n",
      " [ 2.2382496  -1.07312733]\n",
      " [ 1.18409463 -0.16086643]\n",
      " [-0.44694546 -0.93539753]\n",
      " [ 2.04936837 -1.11628933]\n",
      " [ 2.28843664 -2.30121442]\n",
      " [ 0.83198321 -0.23660715]\n",
      " [-0.21399542  0.15495118]\n",
      " [ 0.80075559  0.06434178]\n",
      " [ 0.09120498 -0.94836947]\n",
      " [ 0.86497254 -0.92940159]]\n",
      "class2:\n",
      "[[-0.46510942  0.98534849]\n",
      " [-2.36045094  0.65144525]\n",
      " [-0.77619247 -0.26696025]\n",
      " [ 0.22762245  2.6366986 ]\n",
      " [-0.02431108  2.38593586]\n",
      " [-2.31661444  0.04663266]\n",
      " [-1.52151538  1.33036452]\n",
      " [-2.16809533  1.04430029]\n",
      " [-2.64394492  1.69463698]\n",
      " [-1.77562438  2.44945383]\n",
      " [-2.50227408  0.88882457]\n",
      " [-0.7150129   0.29680449]\n",
      " [-2.27620581  0.66626176]\n",
      " [-1.72535465  1.42058839]\n",
      " [-0.00765025  1.31861182]\n",
      " [-0.90598802  1.20008935]\n",
      " [-1.71063722  0.32193643]\n",
      " [-1.5743898   0.90114679]\n",
      " [-0.05449587  0.23727447]\n",
      " [-0.87107183  0.10682826]]\n"
     ]
    }
   ],
   "source": [
    "#generate random values for our parameters theta\n",
    "init_theta = np.random.uniform(-0.5,0.5,3) #since data is 2d we need 3 parameters\n",
    "print(init_theta)\n",
    "\n",
    "mean1 = (1,-1)\n",
    "mean2 = (-1,1)\n",
    "var = (1,1)\n",
    "\n",
    "class1,class2,full_data = generateClasses(mean1, mean2, var,init_theta)\n",
    "print(\"class 1:\")\n",
    "print(class1)\n",
    "\n",
    "print(\"class2:\")\n",
    "print(class2)"
   ]
  },
  {
   "cell_type": "code",
   "execution_count": 4,
   "metadata": {},
   "outputs": [
    {
     "name": "stdout",
     "output_type": "stream",
     "text": [
      "[ 1.68648771 -0.9246615 ] has class: [0.]\n",
      "[ 1.89790856 -1.64108115] has class: [0.]\n",
      "[-0.5521598 -1.9107503] has class: [0.]\n",
      "[ 1.41260623 -0.31526554] has class: [0.]\n",
      "[1.2970522  0.78406166] has class: [0.]\n",
      "[ 0.89498191 -0.69388234] has class: [0.]\n",
      "[ 1.98220314 -2.14027091] has class: [0.]\n",
      "[ 1.26177246 -0.84872208] has class: [0.]\n",
      "[ 1.21593827 -0.71413333] has class: [0.]\n",
      "[ 0.83490969 -1.07402694] has class: [0.]\n",
      "[ 2.2382496  -1.07312733] has class: [0.]\n",
      "[ 1.18409463 -0.16086643] has class: [0.]\n",
      "[-0.44694546 -0.93539753] has class: [0.]\n",
      "[ 2.04936837 -1.11628933] has class: [0.]\n",
      "[ 2.28843664 -2.30121442] has class: [0.]\n",
      "[ 0.83198321 -0.23660715] has class: [0.]\n",
      "[-0.21399542  0.15495118] has class: [0.]\n",
      "[0.80075559 0.06434178] has class: [0.]\n",
      "[ 0.09120498 -0.94836947] has class: [0.]\n",
      "[ 0.86497254 -0.92940159] has class: [0.]\n",
      "[-0.46510942  0.98534849] has class: [1.]\n",
      "[-2.36045094  0.65144525] has class: [1.]\n",
      "[-0.77619247 -0.26696025] has class: [1.]\n",
      "[0.22762245 2.6366986 ] has class: [1.]\n",
      "[-0.02431108  2.38593586] has class: [1.]\n",
      "[-2.31661444  0.04663266] has class: [1.]\n",
      "[-1.52151538  1.33036452] has class: [1.]\n",
      "[-2.16809533  1.04430029] has class: [1.]\n",
      "[-2.64394492  1.69463698] has class: [1.]\n",
      "[-1.77562438  2.44945383] has class: [1.]\n",
      "[-2.50227408  0.88882457] has class: [1.]\n",
      "[-0.7150129   0.29680449] has class: [1.]\n",
      "[-2.27620581  0.66626176] has class: [1.]\n",
      "[-1.72535465  1.42058839] has class: [1.]\n",
      "[-0.00765025  1.31861182] has class: [1.]\n",
      "[-0.90598802  1.20008935] has class: [1.]\n",
      "[-1.71063722  0.32193643] has class: [1.]\n",
      "[-1.5743898   0.90114679] has class: [1.]\n",
      "[-0.05449587  0.23727447] has class: [1.]\n",
      "[-0.87107183  0.10682826] has class: [1.]\n",
      "error using log likelihood is:[-51.37899065]\n"
     ]
    }
   ],
   "source": [
    "#trying to calculate an error using log likelihood\n",
    "error = 1.0\n",
    "class_y = np.zeros(shape=(len(full_data),1)) # here we are assigning the class values to the datapoints\n",
    "\n",
    "for i in range(len(full_data)):\n",
    "    if (full_data[i] in class1):\n",
    "        class_y[i] = 0\n",
    "    else:\n",
    "        class_y[i] = 1\n",
    "    print(str(full_data[i])+\" has class: \"+str(class_y[i]))\n",
    "    \n",
    "def h_function(theta, x):\n",
    "    aug_x = np.concatenate((np.array([1]),x))\n",
    "\n",
    "    exponent = np.dot(np.transpose(theta),aug_x)\n",
    "\n",
    "    \n",
    "    result = 1/(1+math.exp(-1*exponent))\n",
    "    \n",
    "    return(result)\n",
    "    \n",
    "def likelihood(init_theta,full_data,class_y):\n",
    "    result = 0\n",
    "    for i in range(len(full_data)):\n",
    "        result += class_y[i]*math.log(h_function(init_theta,full_data[i])) + (1-class_y[i])*math.log(1-h_function(init_theta,full_data[i]))\n",
    "        \n",
    "    return result\n",
    "\n",
    "print(\"error using log likelihood is:\" + str(likelihood(init_theta,full_data,class_y)))"
   ]
  },
  {
   "cell_type": "code",
   "execution_count": 5,
   "metadata": {},
   "outputs": [],
   "source": [
    "def cost_func(theta,x):\n",
    "\n",
    "    aug_x =np.concatenate((np.array([1]),x))\n",
    "\n",
    "    result = 0\n",
    "    for i in range(len(theta)):\n",
    "        result += theta[i]*aug_x[i]\n",
    "    \n",
    "    cost = 1/(1+math.exp(-1*result))\n",
    "    return cost\n",
    "    "
   ]
  },
  {
   "cell_type": "code",
   "execution_count": 6,
   "metadata": {},
   "outputs": [
    {
     "name": "stdout",
     "output_type": "stream",
     "text": [
      "theta calculated after 320 iterations: [-0.20111963 -0.78146523  0.64778209]\n"
     ]
    }
   ],
   "source": [
    "#now perform gradient decsent on the current parameters DOUBLE CHECK\n",
    "error = 10\n",
    "tol = 0.005\n",
    "max_iter = 1000\n",
    "new_theta = init_theta.copy()\n",
    "alpha = 0.01\n",
    "counter = 0\n",
    "\n",
    "while(error >= tol and counter <= max_iter):#check if should be or/and\n",
    "    for i in range(len(full_data)):\n",
    "    \n",
    "       \n",
    "        data_point = np.concatenate((np.array([1]),full_data[i]))\n",
    "       \n",
    "        \n",
    "        for j in range(len(init_theta)):\n",
    "            \n",
    "            new_theta[j] = init_theta[j] + alpha*(class_y[i]-cost_func(init_theta,full_data[i]))*data_point[j]\n",
    "          \n",
    "        error = np.linalg.norm(new_theta-init_theta,2)\n",
    "       \n",
    "        \n",
    "        init_theta = new_theta.copy()\n",
    "        \n",
    "\n",
    "        \n",
    "        counter += 1\n",
    "\n",
    "\n",
    "\n",
    "print(\"theta calculated after \" + str(counter) + \" iterations: \" + str(new_theta))      \n",
    "                "
   ]
  },
  {
   "cell_type": "code",
   "execution_count": 7,
   "metadata": {},
   "outputs": [
    {
     "data": {
      "image/png": "[encoded data removed]",
      "text/plain": [
       "<Figure size 432x288 with 1 Axes>"
      ]
     },
     "metadata": {
      "needs_background": "light"
     },
     "output_type": "display_data"
    }
   ],
   "source": [
    "#lets now attempt to plot these new learned parameters\n",
    "plotted_points = []\n",
    "\n",
    "for i in range(len(full_data)):\n",
    "    plotted_points += [(-1*new_theta[1])/(new_theta[2])*full_data[i] + (-1*new_theta[0]/new_theta[2])]\n",
    "    \n",
    "plt.plot(full_data,plotted_points, color = \"magenta\")\n",
    "plt.scatter(class1[:,0],class1[:,1],color = \"b\")\n",
    "plt.scatter(class2[:,0],class2[:,1],color = \"r\")\n",
    "plt.show()"
   ]
  },
  {
   "cell_type": "code",
   "execution_count": 8,
   "metadata": {},
   "outputs": [
    {
     "data": {
      "image/png": "[encoded data removed]",
      "text/plain": [
       "<Figure size 432x288 with 1 Axes>"
      ]
     },
     "metadata": {
      "needs_background": "light"
     },
     "output_type": "display_data"
    }
   ],
   "source": [
    "#Lets now generate a set of validation data\n",
    "###############################################################################\n",
    "\n",
    "valid_class1,valid_class2,valid_full_data = generateClasses(mean1, mean2, var,new_theta)\n"
   ]
  },
  {
   "cell_type": "code",
   "execution_count": 9,
   "metadata": {},
   "outputs": [
    {
     "data": {
      "image/png": "[encoded data removed]",
      "text/plain": [
       "<Figure size 432x288 with 1 Axes>"
      ]
     },
     "metadata": {
      "needs_background": "light"
     },
     "output_type": "display_data"
    }
   ],
   "source": [
    "#Lets now test our model against a third set of data (Testing data)\n",
    "###############################################################################\n",
    "valid_class1,valid_class2,valid_full_data = generateClasses(mean1, mean2, var,new_theta)\n"
   ]
  },
  {
   "cell_type": "code",
   "execution_count": null,
   "metadata": {},
   "outputs": [],
   "source": []
  }
 ],
 "metadata": {
  "celltoolbar": "Raw Cell Format",
  "kernelspec": {
   "display_name": "Python 3",
   "language": "python",
   "name": "python3"
  },
  "language_info": {
   "codemirror_mode": {
    "name": "ipython",
    "version": 3
   },
   "file_extension": ".py",
   "mimetype": "text/x-python",
   "name": "python",
   "nbconvert_exporter": "python",
   "pygments_lexer": "ipython3",
   "version": "3.8.5"
  }
 },
 "nbformat": 4,
 "nbformat_minor": 4
}
